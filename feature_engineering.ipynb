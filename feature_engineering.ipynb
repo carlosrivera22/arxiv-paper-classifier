{
 "cells": [
  {
   "cell_type": "code",
   "execution_count": 1,
   "metadata": {},
   "outputs": [],
   "source": [
    "import pickle\n",
    "import pandas as pd\n",
    "import re\n",
    "import nltk\n",
    "from nltk.corpus import stopwords\n",
    "from nltk.stem import WordNetLemmatizer\n",
    "from sklearn.feature_extraction.text import TfidfVectorizer\n",
    "from sklearn.model_selection import train_test_split\n",
    "from sklearn.feature_selection import chi2\n",
    "import numpy as np"
   ]
  },
  {
   "cell_type": "code",
   "execution_count": 2,
   "metadata": {},
   "outputs": [
    {
     "data": {
      "text/html": [
       "<div>\n",
       "<style scoped>\n",
       "    .dataframe tbody tr th:only-of-type {\n",
       "        vertical-align: middle;\n",
       "    }\n",
       "\n",
       "    .dataframe tbody tr th {\n",
       "        vertical-align: top;\n",
       "    }\n",
       "\n",
       "    .dataframe thead th {\n",
       "        text-align: right;\n",
       "    }\n",
       "</style>\n",
       "<table border=\"1\" class=\"dataframe\">\n",
       "  <thead>\n",
       "    <tr style=\"text-align: right;\">\n",
       "      <th></th>\n",
       "      <th>Unnamed: 0</th>\n",
       "      <th>Unnamed: 0.1</th>\n",
       "      <th>id</th>\n",
       "      <th>submitter</th>\n",
       "      <th>authors</th>\n",
       "      <th>title</th>\n",
       "      <th>comments</th>\n",
       "      <th>journal-ref</th>\n",
       "      <th>doi</th>\n",
       "      <th>abstract</th>\n",
       "      <th>report-no</th>\n",
       "      <th>categories</th>\n",
       "      <th>versions</th>\n",
       "      <th>parent categories</th>\n",
       "      <th>clean categories</th>\n",
       "      <th>abstract length</th>\n",
       "    </tr>\n",
       "  </thead>\n",
       "  <tbody>\n",
       "    <tr>\n",
       "      <td>0</td>\n",
       "      <td>0</td>\n",
       "      <td>0</td>\n",
       "      <td>704.0001</td>\n",
       "      <td>Pavel Nadolsky</td>\n",
       "      <td>C. Bal\\'azs, E. L. Berger, P. M. Nadolsky, C.-...</td>\n",
       "      <td>Calculation of prompt diphoton production cros...</td>\n",
       "      <td>37 pages, 15 figures; published version</td>\n",
       "      <td>Phys.Rev.D76:013009,2007</td>\n",
       "      <td>10.1103/PhysRevD.76.013009</td>\n",
       "      <td>A fully differential calculation in perturba...</td>\n",
       "      <td>ANL-HEP-PR-07-12</td>\n",
       "      <td>['hep-ph']</td>\n",
       "      <td>['v1', 'v2']</td>\n",
       "      <td>['Physics']</td>\n",
       "      <td>Physics</td>\n",
       "      <td>983</td>\n",
       "    </tr>\n",
       "    <tr>\n",
       "      <td>1</td>\n",
       "      <td>1</td>\n",
       "      <td>2</td>\n",
       "      <td>704.0003</td>\n",
       "      <td>Hongjun Pan</td>\n",
       "      <td>Hongjun Pan</td>\n",
       "      <td>The evolution of the Earth-Moon system based o...</td>\n",
       "      <td>23 pages, 3 figures</td>\n",
       "      <td>NaN</td>\n",
       "      <td>NaN</td>\n",
       "      <td>The evolution of Earth-Moon system is descri...</td>\n",
       "      <td>NaN</td>\n",
       "      <td>['physics.gen-ph']</td>\n",
       "      <td>['v1', 'v2', 'v3']</td>\n",
       "      <td>['Physics']</td>\n",
       "      <td>Physics</td>\n",
       "      <td>880</td>\n",
       "    </tr>\n",
       "    <tr>\n",
       "      <td>2</td>\n",
       "      <td>4</td>\n",
       "      <td>5</td>\n",
       "      <td>704.0006</td>\n",
       "      <td>Yue Hin Pong</td>\n",
       "      <td>Y. H. Pong and C. K. Law</td>\n",
       "      <td>Bosonic characters of atomic Cooper pairs acro...</td>\n",
       "      <td>6 pages, 4 figures, accepted by PRA</td>\n",
       "      <td>NaN</td>\n",
       "      <td>10.1103/PhysRevA.75.043613</td>\n",
       "      <td>We study the two-particle wave function of p...</td>\n",
       "      <td>NaN</td>\n",
       "      <td>['cond-mat.mes-hall']</td>\n",
       "      <td>['v1']</td>\n",
       "      <td>['Physics']</td>\n",
       "      <td>Physics</td>\n",
       "      <td>918</td>\n",
       "    </tr>\n",
       "    <tr>\n",
       "      <td>3</td>\n",
       "      <td>5</td>\n",
       "      <td>6</td>\n",
       "      <td>704.0007</td>\n",
       "      <td>Alejandro Corichi</td>\n",
       "      <td>Alejandro Corichi, Tatjana Vukasinac and Jose ...</td>\n",
       "      <td>Polymer Quantum Mechanics and its Continuum Limit</td>\n",
       "      <td>16 pages, no figures. Typos corrected to match...</td>\n",
       "      <td>Phys.Rev.D76:044016,2007</td>\n",
       "      <td>10.1103/PhysRevD.76.044016</td>\n",
       "      <td>A rather non-standard quantum representation...</td>\n",
       "      <td>IGPG-07/03-2</td>\n",
       "      <td>['gr-qc']</td>\n",
       "      <td>['v1', 'v2']</td>\n",
       "      <td>['Physics']</td>\n",
       "      <td>Physics</td>\n",
       "      <td>1036</td>\n",
       "    </tr>\n",
       "    <tr>\n",
       "      <td>4</td>\n",
       "      <td>6</td>\n",
       "      <td>7</td>\n",
       "      <td>704.0008</td>\n",
       "      <td>Damian Swift</td>\n",
       "      <td>Damian C. Swift</td>\n",
       "      <td>Numerical solution of shock and ramp compressi...</td>\n",
       "      <td>Minor corrections</td>\n",
       "      <td>Journal of Applied Physics, vol 104, 073536 (2...</td>\n",
       "      <td>10.1063/1.2975338</td>\n",
       "      <td>A general formulation was developed to repre...</td>\n",
       "      <td>LA-UR-07-2051, LLNL-JRNL-410358</td>\n",
       "      <td>['cond-mat.mtrl-sci']</td>\n",
       "      <td>['v1', 'v2', 'v3']</td>\n",
       "      <td>['Physics']</td>\n",
       "      <td>Physics</td>\n",
       "      <td>949</td>\n",
       "    </tr>\n",
       "  </tbody>\n",
       "</table>\n",
       "</div>"
      ],
      "text/plain": [
       "   Unnamed: 0  Unnamed: 0.1        id          submitter  \\\n",
       "0           0             0  704.0001     Pavel Nadolsky   \n",
       "1           1             2  704.0003        Hongjun Pan   \n",
       "2           4             5  704.0006       Yue Hin Pong   \n",
       "3           5             6  704.0007  Alejandro Corichi   \n",
       "4           6             7  704.0008       Damian Swift   \n",
       "\n",
       "                                             authors  \\\n",
       "0  C. Bal\\'azs, E. L. Berger, P. M. Nadolsky, C.-...   \n",
       "1                                        Hongjun Pan   \n",
       "2                           Y. H. Pong and C. K. Law   \n",
       "3  Alejandro Corichi, Tatjana Vukasinac and Jose ...   \n",
       "4                                    Damian C. Swift   \n",
       "\n",
       "                                               title  \\\n",
       "0  Calculation of prompt diphoton production cros...   \n",
       "1  The evolution of the Earth-Moon system based o...   \n",
       "2  Bosonic characters of atomic Cooper pairs acro...   \n",
       "3  Polymer Quantum Mechanics and its Continuum Limit   \n",
       "4  Numerical solution of shock and ramp compressi...   \n",
       "\n",
       "                                            comments  \\\n",
       "0            37 pages, 15 figures; published version   \n",
       "1                                23 pages, 3 figures   \n",
       "2                6 pages, 4 figures, accepted by PRA   \n",
       "3  16 pages, no figures. Typos corrected to match...   \n",
       "4                                  Minor corrections   \n",
       "\n",
       "                                         journal-ref  \\\n",
       "0                           Phys.Rev.D76:013009,2007   \n",
       "1                                                NaN   \n",
       "2                                                NaN   \n",
       "3                           Phys.Rev.D76:044016,2007   \n",
       "4  Journal of Applied Physics, vol 104, 073536 (2...   \n",
       "\n",
       "                          doi  \\\n",
       "0  10.1103/PhysRevD.76.013009   \n",
       "1                         NaN   \n",
       "2  10.1103/PhysRevA.75.043613   \n",
       "3  10.1103/PhysRevD.76.044016   \n",
       "4           10.1063/1.2975338   \n",
       "\n",
       "                                            abstract  \\\n",
       "0    A fully differential calculation in perturba...   \n",
       "1    The evolution of Earth-Moon system is descri...   \n",
       "2    We study the two-particle wave function of p...   \n",
       "3    A rather non-standard quantum representation...   \n",
       "4    A general formulation was developed to repre...   \n",
       "\n",
       "                         report-no             categories            versions  \\\n",
       "0                 ANL-HEP-PR-07-12             ['hep-ph']        ['v1', 'v2']   \n",
       "1                              NaN     ['physics.gen-ph']  ['v1', 'v2', 'v3']   \n",
       "2                              NaN  ['cond-mat.mes-hall']              ['v1']   \n",
       "3                     IGPG-07/03-2              ['gr-qc']        ['v1', 'v2']   \n",
       "4  LA-UR-07-2051, LLNL-JRNL-410358  ['cond-mat.mtrl-sci']  ['v1', 'v2', 'v3']   \n",
       "\n",
       "  parent categories clean categories  abstract length  \n",
       "0       ['Physics']          Physics              983  \n",
       "1       ['Physics']          Physics              880  \n",
       "2       ['Physics']          Physics              918  \n",
       "3       ['Physics']          Physics             1036  \n",
       "4       ['Physics']          Physics              949  "
      ]
     },
     "execution_count": 2,
     "metadata": {},
     "output_type": "execute_result"
    }
   ],
   "source": [
    "df = pd.read_csv('single.csv')\n",
    "df.head()"
   ]
  },
  {
   "cell_type": "code",
   "execution_count": 3,
   "metadata": {},
   "outputs": [
    {
     "data": {
      "text/plain": [
       "\"  The evolution of Earth-Moon system is described by the dark matter field\\nfluid model proposed in the Meeting of Division of Particle and Field 2004,\\nAmerican Physical Society. The current behavior of the Earth-Moon system agrees\\nwith this model very well and the general pattern of the evolution of the\\nMoon-Earth system described by this model agrees with geological and fossil\\nevidence. The closest distance of the Moon to Earth was about 259000 km at 4.5\\nbillion years ago, which is far beyond the Roche's limit. The result suggests\\nthat the tidal friction may not be the primary cause for the evolution of the\\nEarth-Moon system. The average dark matter field fluid constant derived from\\nEarth-Moon system data is 4.39 x 10^(-22) s^(-1)m^(-1). This model predicts\\nthat the Mars's rotation is also slowing with the angular acceleration rate\\nabout -4.38 x 10^(-22) rad s^(-2).\\n\""
      ]
     },
     "execution_count": 3,
     "metadata": {},
     "output_type": "execute_result"
    }
   ],
   "source": [
    "df.loc[1]['abstract']"
   ]
  },
  {
   "cell_type": "markdown",
   "metadata": {},
   "source": [
    "# Text Cleaning and Preparation"
   ]
  },
  {
   "cell_type": "markdown",
   "metadata": {},
   "source": [
    "## Special Character Cleaning "
   ]
  },
  {
   "cell_type": "markdown",
   "metadata": {},
   "source": [
    "We can see the following special characters:\n",
    "\n",
    "- \\r\n",
    "- \\n\n",
    "- \\ before possessive pronouns (government's = government\\'s)\n",
    "- \\ before possessive pronouns 2 (Yukos' = Yukos\\')\n",
    "- \" when quoting text"
   ]
  },
  {
   "cell_type": "code",
   "execution_count": 4,
   "metadata": {},
   "outputs": [],
   "source": [
    "df['clean abstract'] = df['abstract'].str.replace(\"\\r\", \" \")\n",
    "df['clean abstract'] = df['clean abstract'].str.replace(\"\\n\", \" \")\n",
    "df['clean abstract'] = df['clean abstract'].str.replace(\"    \", \" \")"
   ]
  },
  {
   "cell_type": "code",
   "execution_count": 5,
   "metadata": {},
   "outputs": [
    {
     "data": {
      "text/plain": [
       "\"  The evolution of Earth-Moon system is described by the dark matter field fluid model proposed in the Meeting of Division of Particle and Field 2004, American Physical Society. The current behavior of the Earth-Moon system agrees with this model very well and the general pattern of the evolution of the Moon-Earth system described by this model agrees with geological and fossil evidence. The closest distance of the Moon to Earth was about 259000 km at 4.5 billion years ago, which is far beyond the Roche's limit. The result suggests that the tidal friction may not be the primary cause for the evolution of the Earth-Moon system. The average dark matter field fluid constant derived from Earth-Moon system data is 4.39 x 10^(-22) s^(-1)m^(-1). This model predicts that the Mars's rotation is also slowing with the angular acceleration rate about -4.38 x 10^(-22) rad s^(-2). \""
      ]
     },
     "execution_count": 5,
     "metadata": {},
     "output_type": "execute_result"
    }
   ],
   "source": [
    "df.loc[1]['clean abstract']"
   ]
  },
  {
   "cell_type": "code",
   "execution_count": 6,
   "metadata": {},
   "outputs": [],
   "source": [
    "# \" when quoting text\n",
    "df['clean abstract'] = df['clean abstract'].str.replace('\"', '')"
   ]
  },
  {
   "cell_type": "markdown",
   "metadata": {},
   "source": [
    "## Upcase/Downcase "
   ]
  },
  {
   "cell_type": "code",
   "execution_count": 7,
   "metadata": {},
   "outputs": [],
   "source": [
    "# Lowercasing the text\n",
    "df['clean abstract'] = df['clean abstract'].str.lower()"
   ]
  },
  {
   "cell_type": "code",
   "execution_count": 8,
   "metadata": {},
   "outputs": [
    {
     "data": {
      "text/plain": [
       "\"  the evolution of earth-moon system is described by the dark matter field fluid model proposed in the meeting of division of particle and field 2004, american physical society. the current behavior of the earth-moon system agrees with this model very well and the general pattern of the evolution of the moon-earth system described by this model agrees with geological and fossil evidence. the closest distance of the moon to earth was about 259000 km at 4.5 billion years ago, which is far beyond the roche's limit. the result suggests that the tidal friction may not be the primary cause for the evolution of the earth-moon system. the average dark matter field fluid constant derived from earth-moon system data is 4.39 x 10^(-22) s^(-1)m^(-1). this model predicts that the mars's rotation is also slowing with the angular acceleration rate about -4.38 x 10^(-22) rad s^(-2). \""
      ]
     },
     "execution_count": 8,
     "metadata": {},
     "output_type": "execute_result"
    }
   ],
   "source": [
    "df.loc[1]['clean abstract']"
   ]
  },
  {
   "cell_type": "markdown",
   "metadata": {},
   "source": [
    "## Punctuation Signs "
   ]
  },
  {
   "cell_type": "code",
   "execution_count": 9,
   "metadata": {},
   "outputs": [],
   "source": [
    "punctuation_signs = list(\"?:!.,;\")\n",
    "df['clean abstract'] = df['clean abstract']\n",
    "\n",
    "for punct_sign in punctuation_signs:\n",
    "    df['clean abstract'] = df['clean abstract'].str.replace(punct_sign, '')"
   ]
  },
  {
   "cell_type": "code",
   "execution_count": 10,
   "metadata": {},
   "outputs": [
    {
     "data": {
      "text/plain": [
       "\"  the evolution of earth-moon system is described by the dark matter field fluid model proposed in the meeting of division of particle and field 2004 american physical society the current behavior of the earth-moon system agrees with this model very well and the general pattern of the evolution of the moon-earth system described by this model agrees with geological and fossil evidence the closest distance of the moon to earth was about 259000 km at 45 billion years ago which is far beyond the roche's limit the result suggests that the tidal friction may not be the primary cause for the evolution of the earth-moon system the average dark matter field fluid constant derived from earth-moon system data is 439 x 10^(-22) s^(-1)m^(-1) this model predicts that the mars's rotation is also slowing with the angular acceleration rate about -438 x 10^(-22) rad s^(-2) \""
      ]
     },
     "execution_count": 10,
     "metadata": {},
     "output_type": "execute_result"
    }
   ],
   "source": [
    "df.loc[1]['clean abstract']"
   ]
  },
  {
   "cell_type": "markdown",
   "metadata": {},
   "source": [
    "## Possessive Pronouns"
   ]
  },
  {
   "cell_type": "code",
   "execution_count": 11,
   "metadata": {},
   "outputs": [],
   "source": [
    "df['clean abstract'] = df['clean abstract'].str.replace(\"'s\", \"\")"
   ]
  },
  {
   "cell_type": "code",
   "execution_count": 12,
   "metadata": {},
   "outputs": [
    {
     "data": {
      "text/plain": [
       "'  the evolution of earth-moon system is described by the dark matter field fluid model proposed in the meeting of division of particle and field 2004 american physical society the current behavior of the earth-moon system agrees with this model very well and the general pattern of the evolution of the moon-earth system described by this model agrees with geological and fossil evidence the closest distance of the moon to earth was about 259000 km at 45 billion years ago which is far beyond the roche limit the result suggests that the tidal friction may not be the primary cause for the evolution of the earth-moon system the average dark matter field fluid constant derived from earth-moon system data is 439 x 10^(-22) s^(-1)m^(-1) this model predicts that the mars rotation is also slowing with the angular acceleration rate about -438 x 10^(-22) rad s^(-2) '"
      ]
     },
     "execution_count": 12,
     "metadata": {},
     "output_type": "execute_result"
    }
   ],
   "source": [
    "df.loc[1]['clean abstract']"
   ]
  },
  {
   "cell_type": "markdown",
   "metadata": {},
   "source": [
    "## Stemming and Lemmatization"
   ]
  },
  {
   "cell_type": "code",
   "execution_count": 13,
   "metadata": {},
   "outputs": [
    {
     "name": "stdout",
     "output_type": "stream",
     "text": [
      "------------------------------------------------------------\n"
     ]
    },
    {
     "name": "stderr",
     "output_type": "stream",
     "text": [
      "[nltk_data] Downloading package punkt to\n",
      "[nltk_data]     /Users/carlosgrivera/nltk_data...\n",
      "[nltk_data]   Package punkt is already up-to-date!\n",
      "[nltk_data] Downloading package wordnet to\n",
      "[nltk_data]     /Users/carlosgrivera/nltk_data...\n",
      "[nltk_data]   Package wordnet is already up-to-date!\n"
     ]
    },
    {
     "data": {
      "text/plain": [
       "True"
      ]
     },
     "execution_count": 13,
     "metadata": {},
     "output_type": "execute_result"
    }
   ],
   "source": [
    "# Downloading punkt and wordnet from NLTK\n",
    "nltk.download('punkt')\n",
    "print(\"------------------------------------------------------------\")\n",
    "nltk.download('wordnet')"
   ]
  },
  {
   "cell_type": "code",
   "execution_count": 14,
   "metadata": {},
   "outputs": [],
   "source": [
    "# Saving the lemmatizer into an object\n",
    "wordnet_lemmatizer = WordNetLemmatizer()"
   ]
  },
  {
   "cell_type": "code",
   "execution_count": 15,
   "metadata": {},
   "outputs": [
    {
     "data": {
      "text/html": [
       "<div>\n",
       "<style scoped>\n",
       "    .dataframe tbody tr th:only-of-type {\n",
       "        vertical-align: middle;\n",
       "    }\n",
       "\n",
       "    .dataframe tbody tr th {\n",
       "        vertical-align: top;\n",
       "    }\n",
       "\n",
       "    .dataframe thead th {\n",
       "        text-align: right;\n",
       "    }\n",
       "</style>\n",
       "<table border=\"1\" class=\"dataframe\">\n",
       "  <thead>\n",
       "    <tr style=\"text-align: right;\">\n",
       "      <th></th>\n",
       "      <th>Unnamed: 0</th>\n",
       "      <th>Unnamed: 0.1</th>\n",
       "      <th>id</th>\n",
       "      <th>submitter</th>\n",
       "      <th>authors</th>\n",
       "      <th>title</th>\n",
       "      <th>comments</th>\n",
       "      <th>journal-ref</th>\n",
       "      <th>doi</th>\n",
       "      <th>abstract</th>\n",
       "      <th>report-no</th>\n",
       "      <th>categories</th>\n",
       "      <th>versions</th>\n",
       "      <th>parent categories</th>\n",
       "      <th>clean categories</th>\n",
       "      <th>abstract length</th>\n",
       "      <th>clean abstract</th>\n",
       "    </tr>\n",
       "  </thead>\n",
       "  <tbody>\n",
       "    <tr>\n",
       "      <td>0</td>\n",
       "      <td>0</td>\n",
       "      <td>0</td>\n",
       "      <td>704.00010</td>\n",
       "      <td>Pavel Nadolsky</td>\n",
       "      <td>C. Bal\\'azs, E. L. Berger, P. M. Nadolsky, C.-...</td>\n",
       "      <td>Calculation of prompt diphoton production cros...</td>\n",
       "      <td>37 pages, 15 figures; published version</td>\n",
       "      <td>Phys.Rev.D76:013009,2007</td>\n",
       "      <td>10.1103/PhysRevD.76.013009</td>\n",
       "      <td>A fully differential calculation in perturba...</td>\n",
       "      <td>ANL-HEP-PR-07-12</td>\n",
       "      <td>['hep-ph']</td>\n",
       "      <td>['v1', 'v2']</td>\n",
       "      <td>['Physics']</td>\n",
       "      <td>Physics</td>\n",
       "      <td>983</td>\n",
       "      <td>a fully differential calculation in perturba...</td>\n",
       "    </tr>\n",
       "    <tr>\n",
       "      <td>1</td>\n",
       "      <td>1</td>\n",
       "      <td>2</td>\n",
       "      <td>704.00030</td>\n",
       "      <td>Hongjun Pan</td>\n",
       "      <td>Hongjun Pan</td>\n",
       "      <td>The evolution of the Earth-Moon system based o...</td>\n",
       "      <td>23 pages, 3 figures</td>\n",
       "      <td>NaN</td>\n",
       "      <td>NaN</td>\n",
       "      <td>The evolution of Earth-Moon system is descri...</td>\n",
       "      <td>NaN</td>\n",
       "      <td>['physics.gen-ph']</td>\n",
       "      <td>['v1', 'v2', 'v3']</td>\n",
       "      <td>['Physics']</td>\n",
       "      <td>Physics</td>\n",
       "      <td>880</td>\n",
       "      <td>the evolution of earth-moon system is descri...</td>\n",
       "    </tr>\n",
       "    <tr>\n",
       "      <td>2</td>\n",
       "      <td>4</td>\n",
       "      <td>5</td>\n",
       "      <td>704.00060</td>\n",
       "      <td>Yue Hin Pong</td>\n",
       "      <td>Y. H. Pong and C. K. Law</td>\n",
       "      <td>Bosonic characters of atomic Cooper pairs acro...</td>\n",
       "      <td>6 pages, 4 figures, accepted by PRA</td>\n",
       "      <td>NaN</td>\n",
       "      <td>10.1103/PhysRevA.75.043613</td>\n",
       "      <td>We study the two-particle wave function of p...</td>\n",
       "      <td>NaN</td>\n",
       "      <td>['cond-mat.mes-hall']</td>\n",
       "      <td>['v1']</td>\n",
       "      <td>['Physics']</td>\n",
       "      <td>Physics</td>\n",
       "      <td>918</td>\n",
       "      <td>we study the two-particle wave function of p...</td>\n",
       "    </tr>\n",
       "    <tr>\n",
       "      <td>3</td>\n",
       "      <td>5</td>\n",
       "      <td>6</td>\n",
       "      <td>704.00070</td>\n",
       "      <td>Alejandro Corichi</td>\n",
       "      <td>Alejandro Corichi, Tatjana Vukasinac and Jose ...</td>\n",
       "      <td>Polymer Quantum Mechanics and its Continuum Limit</td>\n",
       "      <td>16 pages, no figures. Typos corrected to match...</td>\n",
       "      <td>Phys.Rev.D76:044016,2007</td>\n",
       "      <td>10.1103/PhysRevD.76.044016</td>\n",
       "      <td>A rather non-standard quantum representation...</td>\n",
       "      <td>IGPG-07/03-2</td>\n",
       "      <td>['gr-qc']</td>\n",
       "      <td>['v1', 'v2']</td>\n",
       "      <td>['Physics']</td>\n",
       "      <td>Physics</td>\n",
       "      <td>1036</td>\n",
       "      <td>a rather non-standard quantum representation...</td>\n",
       "    </tr>\n",
       "    <tr>\n",
       "      <td>4</td>\n",
       "      <td>6</td>\n",
       "      <td>7</td>\n",
       "      <td>704.00080</td>\n",
       "      <td>Damian Swift</td>\n",
       "      <td>Damian C. Swift</td>\n",
       "      <td>Numerical solution of shock and ramp compressi...</td>\n",
       "      <td>Minor corrections</td>\n",
       "      <td>Journal of Applied Physics, vol 104, 073536 (2...</td>\n",
       "      <td>10.1063/1.2975338</td>\n",
       "      <td>A general formulation was developed to repre...</td>\n",
       "      <td>LA-UR-07-2051, LLNL-JRNL-410358</td>\n",
       "      <td>['cond-mat.mtrl-sci']</td>\n",
       "      <td>['v1', 'v2', 'v3']</td>\n",
       "      <td>['Physics']</td>\n",
       "      <td>Physics</td>\n",
       "      <td>949</td>\n",
       "      <td>a general formulation was developed to repre...</td>\n",
       "    </tr>\n",
       "    <tr>\n",
       "      <td>...</td>\n",
       "      <td>...</td>\n",
       "      <td>...</td>\n",
       "      <td>...</td>\n",
       "      <td>...</td>\n",
       "      <td>...</td>\n",
       "      <td>...</td>\n",
       "      <td>...</td>\n",
       "      <td>...</td>\n",
       "      <td>...</td>\n",
       "      <td>...</td>\n",
       "      <td>...</td>\n",
       "      <td>...</td>\n",
       "      <td>...</td>\n",
       "      <td>...</td>\n",
       "      <td>...</td>\n",
       "      <td>...</td>\n",
       "      <td>...</td>\n",
       "    </tr>\n",
       "    <tr>\n",
       "      <td>8227</td>\n",
       "      <td>880470</td>\n",
       "      <td>1019990</td>\n",
       "      <td>1808.10844</td>\n",
       "      <td>Theerawit Wilaiprasitporn</td>\n",
       "      <td>Nannapas Banluesombatkul, Thanawin Rakthanmano...</td>\n",
       "      <td>Single Channel ECG for Obstructive Sleep Apnea...</td>\n",
       "      <td>NaN</td>\n",
       "      <td>NaN</td>\n",
       "      <td>NaN</td>\n",
       "      <td>Obstructive sleep apnea (OSA) is a common sl...</td>\n",
       "      <td>NaN</td>\n",
       "      <td>['eess.SP']</td>\n",
       "      <td>['v1']</td>\n",
       "      <td>['Electrical Engineering and Systems Science']</td>\n",
       "      <td>Electrical Engineering and Systems Science</td>\n",
       "      <td>1793</td>\n",
       "      <td>obstructive sleep apnea (osa) is a common sl...</td>\n",
       "    </tr>\n",
       "    <tr>\n",
       "      <td>8228</td>\n",
       "      <td>880600</td>\n",
       "      <td>1020148</td>\n",
       "      <td>1809.00132</td>\n",
       "      <td>Yinghao Ge Mr.</td>\n",
       "      <td>Yinghao Ge, Weile Zhang, Feifei Gao, and Hlain...</td>\n",
       "      <td>Angle-Domain Approach for Parameter Estimation...</td>\n",
       "      <td>Single columns, 32 pages, 12 figures, transact...</td>\n",
       "      <td>NaN</td>\n",
       "      <td>NaN</td>\n",
       "      <td>In this paper, we consider a downlink orthog...</td>\n",
       "      <td>NaN</td>\n",
       "      <td>['eess.SP']</td>\n",
       "      <td>['v1']</td>\n",
       "      <td>['Electrical Engineering and Systems Science']</td>\n",
       "      <td>Electrical Engineering and Systems Science</td>\n",
       "      <td>1372</td>\n",
       "      <td>in this paper we consider a downlink orthogo...</td>\n",
       "    </tr>\n",
       "    <tr>\n",
       "      <td>8229</td>\n",
       "      <td>880605</td>\n",
       "      <td>1020153</td>\n",
       "      <td>1809.00137</td>\n",
       "      <td>Yinghao Ge Mr.</td>\n",
       "      <td>Yinghao Ge, Weile Zhang, Feifei Gao, Shun Zhan...</td>\n",
       "      <td>Beamforming Network Optimization for Reducing ...</td>\n",
       "      <td>Double columns, 13 pages, 10 figures, transact...</td>\n",
       "      <td>NaN</td>\n",
       "      <td>NaN</td>\n",
       "      <td>Communications in high-mobility environments...</td>\n",
       "      <td>NaN</td>\n",
       "      <td>['eess.SP']</td>\n",
       "      <td>['v1', 'v2', 'v3']</td>\n",
       "      <td>['Electrical Engineering and Systems Science']</td>\n",
       "      <td>Electrical Engineering and Systems Science</td>\n",
       "      <td>1694</td>\n",
       "      <td>communications in high-mobility environments...</td>\n",
       "    </tr>\n",
       "    <tr>\n",
       "      <td>8230</td>\n",
       "      <td>880752</td>\n",
       "      <td>1020321</td>\n",
       "      <td>1809.00305</td>\n",
       "      <td>Kenta Iida</td>\n",
       "      <td>Kenta Iida and Hitoshi Kiya</td>\n",
       "      <td>Robust Image Identification for Double-Compres...</td>\n",
       "      <td>This paper will be presented at APSIPA Annual ...</td>\n",
       "      <td>NaN</td>\n",
       "      <td>NaN</td>\n",
       "      <td>In the case that images are shared via socia...</td>\n",
       "      <td>NaN</td>\n",
       "      <td>['eess.IV']</td>\n",
       "      <td>['v1']</td>\n",
       "      <td>['Electrical Engineering and Systems Science']</td>\n",
       "      <td>Electrical Engineering and Systems Science</td>\n",
       "      <td>980</td>\n",
       "      <td>in the case that images are shared via socia...</td>\n",
       "    </tr>\n",
       "    <tr>\n",
       "      <td>8231</td>\n",
       "      <td>880867</td>\n",
       "      <td>1020462</td>\n",
       "      <td>1809.00446</td>\n",
       "      <td>Amit Kachroo</td>\n",
       "      <td>Amit Kachroo and Sabit Ekin</td>\n",
       "      <td>Impact of Secondary User Interference on Prima...</td>\n",
       "      <td>5 pages,8 figures, This work is accepted for p...</td>\n",
       "      <td>NaN</td>\n",
       "      <td>10.1109/VTCFall.2018.8690824</td>\n",
       "      <td>Most of the research in cognitive radio fiel...</td>\n",
       "      <td>NaN</td>\n",
       "      <td>['eess.SP']</td>\n",
       "      <td>['v1']</td>\n",
       "      <td>['Electrical Engineering and Systems Science']</td>\n",
       "      <td>Electrical Engineering and Systems Science</td>\n",
       "      <td>1239</td>\n",
       "      <td>most of the research in cognitive radio fiel...</td>\n",
       "    </tr>\n",
       "  </tbody>\n",
       "</table>\n",
       "<p>8232 rows × 17 columns</p>\n",
       "</div>"
      ],
      "text/plain": [
       "      Unnamed: 0  Unnamed: 0.1          id                  submitter  \\\n",
       "0              0             0   704.00010             Pavel Nadolsky   \n",
       "1              1             2   704.00030                Hongjun Pan   \n",
       "2              4             5   704.00060               Yue Hin Pong   \n",
       "3              5             6   704.00070          Alejandro Corichi   \n",
       "4              6             7   704.00080               Damian Swift   \n",
       "...          ...           ...         ...                        ...   \n",
       "8227      880470       1019990  1808.10844  Theerawit Wilaiprasitporn   \n",
       "8228      880600       1020148  1809.00132             Yinghao Ge Mr.   \n",
       "8229      880605       1020153  1809.00137             Yinghao Ge Mr.   \n",
       "8230      880752       1020321  1809.00305                 Kenta Iida   \n",
       "8231      880867       1020462  1809.00446               Amit Kachroo   \n",
       "\n",
       "                                                authors  \\\n",
       "0     C. Bal\\'azs, E. L. Berger, P. M. Nadolsky, C.-...   \n",
       "1                                           Hongjun Pan   \n",
       "2                              Y. H. Pong and C. K. Law   \n",
       "3     Alejandro Corichi, Tatjana Vukasinac and Jose ...   \n",
       "4                                       Damian C. Swift   \n",
       "...                                                 ...   \n",
       "8227  Nannapas Banluesombatkul, Thanawin Rakthanmano...   \n",
       "8228  Yinghao Ge, Weile Zhang, Feifei Gao, and Hlain...   \n",
       "8229  Yinghao Ge, Weile Zhang, Feifei Gao, Shun Zhan...   \n",
       "8230                        Kenta Iida and Hitoshi Kiya   \n",
       "8231                        Amit Kachroo and Sabit Ekin   \n",
       "\n",
       "                                                  title  \\\n",
       "0     Calculation of prompt diphoton production cros...   \n",
       "1     The evolution of the Earth-Moon system based o...   \n",
       "2     Bosonic characters of atomic Cooper pairs acro...   \n",
       "3     Polymer Quantum Mechanics and its Continuum Limit   \n",
       "4     Numerical solution of shock and ramp compressi...   \n",
       "...                                                 ...   \n",
       "8227  Single Channel ECG for Obstructive Sleep Apnea...   \n",
       "8228  Angle-Domain Approach for Parameter Estimation...   \n",
       "8229  Beamforming Network Optimization for Reducing ...   \n",
       "8230  Robust Image Identification for Double-Compres...   \n",
       "8231  Impact of Secondary User Interference on Prima...   \n",
       "\n",
       "                                               comments  \\\n",
       "0               37 pages, 15 figures; published version   \n",
       "1                                   23 pages, 3 figures   \n",
       "2                   6 pages, 4 figures, accepted by PRA   \n",
       "3     16 pages, no figures. Typos corrected to match...   \n",
       "4                                     Minor corrections   \n",
       "...                                                 ...   \n",
       "8227                                                NaN   \n",
       "8228  Single columns, 32 pages, 12 figures, transact...   \n",
       "8229  Double columns, 13 pages, 10 figures, transact...   \n",
       "8230  This paper will be presented at APSIPA Annual ...   \n",
       "8231  5 pages,8 figures, This work is accepted for p...   \n",
       "\n",
       "                                            journal-ref  \\\n",
       "0                              Phys.Rev.D76:013009,2007   \n",
       "1                                                   NaN   \n",
       "2                                                   NaN   \n",
       "3                              Phys.Rev.D76:044016,2007   \n",
       "4     Journal of Applied Physics, vol 104, 073536 (2...   \n",
       "...                                                 ...   \n",
       "8227                                                NaN   \n",
       "8228                                                NaN   \n",
       "8229                                                NaN   \n",
       "8230                                                NaN   \n",
       "8231                                                NaN   \n",
       "\n",
       "                               doi  \\\n",
       "0       10.1103/PhysRevD.76.013009   \n",
       "1                              NaN   \n",
       "2       10.1103/PhysRevA.75.043613   \n",
       "3       10.1103/PhysRevD.76.044016   \n",
       "4                10.1063/1.2975338   \n",
       "...                            ...   \n",
       "8227                           NaN   \n",
       "8228                           NaN   \n",
       "8229                           NaN   \n",
       "8230                           NaN   \n",
       "8231  10.1109/VTCFall.2018.8690824   \n",
       "\n",
       "                                               abstract  \\\n",
       "0       A fully differential calculation in perturba...   \n",
       "1       The evolution of Earth-Moon system is descri...   \n",
       "2       We study the two-particle wave function of p...   \n",
       "3       A rather non-standard quantum representation...   \n",
       "4       A general formulation was developed to repre...   \n",
       "...                                                 ...   \n",
       "8227    Obstructive sleep apnea (OSA) is a common sl...   \n",
       "8228    In this paper, we consider a downlink orthog...   \n",
       "8229    Communications in high-mobility environments...   \n",
       "8230    In the case that images are shared via socia...   \n",
       "8231    Most of the research in cognitive radio fiel...   \n",
       "\n",
       "                            report-no             categories  \\\n",
       "0                    ANL-HEP-PR-07-12             ['hep-ph']   \n",
       "1                                 NaN     ['physics.gen-ph']   \n",
       "2                                 NaN  ['cond-mat.mes-hall']   \n",
       "3                        IGPG-07/03-2              ['gr-qc']   \n",
       "4     LA-UR-07-2051, LLNL-JRNL-410358  ['cond-mat.mtrl-sci']   \n",
       "...                               ...                    ...   \n",
       "8227                              NaN            ['eess.SP']   \n",
       "8228                              NaN            ['eess.SP']   \n",
       "8229                              NaN            ['eess.SP']   \n",
       "8230                              NaN            ['eess.IV']   \n",
       "8231                              NaN            ['eess.SP']   \n",
       "\n",
       "                versions                               parent categories  \\\n",
       "0           ['v1', 'v2']                                     ['Physics']   \n",
       "1     ['v1', 'v2', 'v3']                                     ['Physics']   \n",
       "2                 ['v1']                                     ['Physics']   \n",
       "3           ['v1', 'v2']                                     ['Physics']   \n",
       "4     ['v1', 'v2', 'v3']                                     ['Physics']   \n",
       "...                  ...                                             ...   \n",
       "8227              ['v1']  ['Electrical Engineering and Systems Science']   \n",
       "8228              ['v1']  ['Electrical Engineering and Systems Science']   \n",
       "8229  ['v1', 'v2', 'v3']  ['Electrical Engineering and Systems Science']   \n",
       "8230              ['v1']  ['Electrical Engineering and Systems Science']   \n",
       "8231              ['v1']  ['Electrical Engineering and Systems Science']   \n",
       "\n",
       "                                clean categories  abstract length  \\\n",
       "0                                        Physics              983   \n",
       "1                                        Physics              880   \n",
       "2                                        Physics              918   \n",
       "3                                        Physics             1036   \n",
       "4                                        Physics              949   \n",
       "...                                          ...              ...   \n",
       "8227  Electrical Engineering and Systems Science             1793   \n",
       "8228  Electrical Engineering and Systems Science             1372   \n",
       "8229  Electrical Engineering and Systems Science             1694   \n",
       "8230  Electrical Engineering and Systems Science              980   \n",
       "8231  Electrical Engineering and Systems Science             1239   \n",
       "\n",
       "                                         clean abstract  \n",
       "0       a fully differential calculation in perturba...  \n",
       "1       the evolution of earth-moon system is descri...  \n",
       "2       we study the two-particle wave function of p...  \n",
       "3       a rather non-standard quantum representation...  \n",
       "4       a general formulation was developed to repre...  \n",
       "...                                                 ...  \n",
       "8227    obstructive sleep apnea (osa) is a common sl...  \n",
       "8228    in this paper we consider a downlink orthogo...  \n",
       "8229    communications in high-mobility environments...  \n",
       "8230    in the case that images are shared via socia...  \n",
       "8231    most of the research in cognitive radio fiel...  \n",
       "\n",
       "[8232 rows x 17 columns]"
      ]
     },
     "execution_count": 15,
     "metadata": {},
     "output_type": "execute_result"
    }
   ],
   "source": [
    "df = df.reset_index(drop=True)\n",
    "df"
   ]
  },
  {
   "cell_type": "code",
   "execution_count": 16,
   "metadata": {},
   "outputs": [],
   "source": [
    "nrows = len(df)\n",
    "lemmatized_text_list = []\n",
    "\n",
    "for row in range(0, nrows):\n",
    "    \n",
    "    # Create an empty list containing lemmatized words\n",
    "    lemmatized_list = []\n",
    "    \n",
    "    # Save the text and its words into an object\n",
    "    text = df.loc[row]['clean abstract']\n",
    "    text_words = text.split(\" \")\n",
    "\n",
    "    # Iterate through every word to lemmatize\n",
    "    for word in text_words:\n",
    "        lemmatized_list.append(wordnet_lemmatizer.lemmatize(word, pos=\"v\"))\n",
    "        \n",
    "    # Join the list\n",
    "    lemmatized_text = \" \".join(lemmatized_list)\n",
    "    \n",
    "    # Append to the list containing the texts\n",
    "    lemmatized_text_list.append(lemmatized_text)"
   ]
  },
  {
   "cell_type": "code",
   "execution_count": 17,
   "metadata": {},
   "outputs": [],
   "source": [
    "df['clean abstract'] = lemmatized_text_list"
   ]
  },
  {
   "cell_type": "markdown",
   "metadata": {},
   "source": [
    "## Stop Words"
   ]
  },
  {
   "cell_type": "code",
   "execution_count": 18,
   "metadata": {},
   "outputs": [
    {
     "name": "stderr",
     "output_type": "stream",
     "text": [
      "[nltk_data] Downloading package stopwords to\n",
      "[nltk_data]     /Users/carlosgrivera/nltk_data...\n",
      "[nltk_data]   Package stopwords is already up-to-date!\n"
     ]
    },
    {
     "data": {
      "text/plain": [
       "True"
      ]
     },
     "execution_count": 18,
     "metadata": {},
     "output_type": "execute_result"
    }
   ],
   "source": [
    "# Downloading the stop words list\n",
    "nltk.download('stopwords')"
   ]
  },
  {
   "cell_type": "code",
   "execution_count": 19,
   "metadata": {},
   "outputs": [],
   "source": [
    "# Loading the stop words in english\n",
    "stop_words = list(stopwords.words('english'))"
   ]
  },
  {
   "cell_type": "code",
   "execution_count": 20,
   "metadata": {},
   "outputs": [
    {
     "data": {
      "text/plain": [
       "'StopWord eating a meal'"
      ]
     },
     "execution_count": 20,
     "metadata": {},
     "output_type": "execute_result"
    }
   ],
   "source": [
    "example = \"me eating a meal\"\n",
    "word = \"me\"\n",
    "\n",
    "# The regular expression is:\n",
    "regex = r\"\\b\" + word + r\"\\b\"  # we need to build it like that to work properly\n",
    "\n",
    "re.sub(regex, \"StopWord\", example)"
   ]
  },
  {
   "cell_type": "code",
   "execution_count": 21,
   "metadata": {},
   "outputs": [],
   "source": [
    "df['clean abstract'] = df['clean abstract']\n",
    "\n",
    "for stop_word in stop_words:\n",
    "\n",
    "    regex_stopword = r\"\\b\" + stop_word + r\"\\b\"\n",
    "    df['clean abstract'] = df['clean abstract'].str.replace(regex_stopword, '')"
   ]
  },
  {
   "cell_type": "code",
   "execution_count": 22,
   "metadata": {},
   "outputs": [],
   "source": [
    "df.loc[1]['clean abstract']\n",
    "df.to_csv('single_clean.csv')"
   ]
  },
  {
   "cell_type": "markdown",
   "metadata": {},
   "source": [
    "# Label Encoding"
   ]
  },
  {
   "cell_type": "code",
   "execution_count": 23,
   "metadata": {},
   "outputs": [],
   "source": [
    "category_codes = {\n",
    "    'Physics': 0,\n",
    "    'Mathematics': 1,\n",
    "    'Quantitative Biology': 2,\n",
    "    'Quantitative Finance': 3,\n",
    "    'Statistics': 4,\n",
    "    'Electrical Engineering and Systems Science': 5,\n",
    "    'Economics': 6,\n",
    "    'Computer Science': 7\n",
    "}"
   ]
  },
  {
   "cell_type": "code",
   "execution_count": 24,
   "metadata": {},
   "outputs": [],
   "source": [
    "# Category mapping\n",
    "df['category code'] = df['clean categories']\n",
    "df = df.replace({'category code':category_codes})"
   ]
  },
  {
   "cell_type": "code",
   "execution_count": 25,
   "metadata": {},
   "outputs": [
    {
     "data": {
      "text/html": [
       "<div>\n",
       "<style scoped>\n",
       "    .dataframe tbody tr th:only-of-type {\n",
       "        vertical-align: middle;\n",
       "    }\n",
       "\n",
       "    .dataframe tbody tr th {\n",
       "        vertical-align: top;\n",
       "    }\n",
       "\n",
       "    .dataframe thead th {\n",
       "        text-align: right;\n",
       "    }\n",
       "</style>\n",
       "<table border=\"1\" class=\"dataframe\">\n",
       "  <thead>\n",
       "    <tr style=\"text-align: right;\">\n",
       "      <th></th>\n",
       "      <th>clean abstract</th>\n",
       "      <th>category code</th>\n",
       "    </tr>\n",
       "  </thead>\n",
       "  <tbody>\n",
       "    <tr>\n",
       "      <td>0</td>\n",
       "      <td>fully differential calculation  perturbativ...</td>\n",
       "      <td>0</td>\n",
       "    </tr>\n",
       "    <tr>\n",
       "      <td>1</td>\n",
       "      <td>evolution  earth-moon system  describe   da...</td>\n",
       "      <td>0</td>\n",
       "    </tr>\n",
       "    <tr>\n",
       "      <td>2</td>\n",
       "      <td>study  two-particle wave function  pair ato...</td>\n",
       "      <td>0</td>\n",
       "    </tr>\n",
       "    <tr>\n",
       "      <td>3</td>\n",
       "      <td>rather non-standard quantum representation ...</td>\n",
       "      <td>0</td>\n",
       "    </tr>\n",
       "    <tr>\n",
       "      <td>4</td>\n",
       "      <td>general formulation  develop  represent mat...</td>\n",
       "      <td>0</td>\n",
       "    </tr>\n",
       "    <tr>\n",
       "      <td>...</td>\n",
       "      <td>...</td>\n",
       "      <td>...</td>\n",
       "    </tr>\n",
       "    <tr>\n",
       "      <td>8227</td>\n",
       "      <td>obstructive sleep apnea (osa)   common sleep...</td>\n",
       "      <td>5</td>\n",
       "    </tr>\n",
       "    <tr>\n",
       "      <td>8228</td>\n",
       "      <td>paper  consider  downlink orthogonal frequ...</td>\n",
       "      <td>5</td>\n",
       "    </tr>\n",
       "    <tr>\n",
       "      <td>8229</td>\n",
       "      <td>communications  high-mobility environments  ...</td>\n",
       "      <td>5</td>\n",
       "    </tr>\n",
       "    <tr>\n",
       "      <td>8230</td>\n",
       "      <td>case  image  share via social network serv...</td>\n",
       "      <td>5</td>\n",
       "    </tr>\n",
       "    <tr>\n",
       "      <td>8231</td>\n",
       "      <td>research  cognitive radio field  primaril...</td>\n",
       "      <td>5</td>\n",
       "    </tr>\n",
       "  </tbody>\n",
       "</table>\n",
       "<p>8232 rows × 2 columns</p>\n",
       "</div>"
      ],
      "text/plain": [
       "                                         clean abstract  category code\n",
       "0        fully differential calculation  perturbativ...              0\n",
       "1        evolution  earth-moon system  describe   da...              0\n",
       "2        study  two-particle wave function  pair ato...              0\n",
       "3        rather non-standard quantum representation ...              0\n",
       "4        general formulation  develop  represent mat...              0\n",
       "...                                                 ...            ...\n",
       "8227    obstructive sleep apnea (osa)   common sleep...              5\n",
       "8228      paper  consider  downlink orthogonal frequ...              5\n",
       "8229    communications  high-mobility environments  ...              5\n",
       "8230      case  image  share via social network serv...              5\n",
       "8231       research  cognitive radio field  primaril...              5\n",
       "\n",
       "[8232 rows x 2 columns]"
      ]
     },
     "execution_count": 25,
     "metadata": {},
     "output_type": "execute_result"
    }
   ],
   "source": [
    "df[['clean abstract','category code']]"
   ]
  },
  {
   "cell_type": "markdown",
   "metadata": {},
   "source": [
    "# Train - test split "
   ]
  },
  {
   "cell_type": "code",
   "execution_count": 26,
   "metadata": {},
   "outputs": [],
   "source": [
    "X_train, X_test, y_train, y_test = train_test_split(df['clean abstract'], \n",
    "                                                    df['category code'], \n",
    "                                                    test_size=0.15, \n",
    "                                                    random_state=8)"
   ]
  },
  {
   "cell_type": "markdown",
   "metadata": {},
   "source": [
    "# Text representation"
   ]
  },
  {
   "cell_type": "markdown",
   "metadata": {},
   "source": [
    "We have various options:\n",
    "\n",
    "- Count Vectors as features\n",
    "- TF-IDF Vectors as features\n",
    "- Word Embeddings as features\n",
    "- Text / NLP based features\n",
    "- Topic Models as features\n",
    "We'll use TF-IDF Vectors as features.\n",
    "\n",
    "We have to define the different parameters:\n",
    "\n",
    "- ngram_range: We want to consider both unigrams and bigrams.\n",
    "- max_df: When building the vocabulary ignore terms that have a document frequency strictly higher than the given threshold\n",
    "- min_df: When building the vocabulary ignore terms that have a document frequency strictly lower than the given threshold.\n",
    "- max_features: If not None, build a vocabulary that only consider the top max_features ordered by term frequency across the corpus.\n",
    "See TfidfVectorizer? for further detail.\n",
    "\n",
    "It needs to be mentioned that we are implicitly scaling our data when representing it as TF-IDF features with the argument norm."
   ]
  },
  {
   "cell_type": "code",
   "execution_count": 27,
   "metadata": {},
   "outputs": [],
   "source": [
    "# Parameter election\n",
    "ngram_range = (1,2)\n",
    "min_df = 10\n",
    "max_df = 1.\n",
    "max_features = 300"
   ]
  },
  {
   "cell_type": "code",
   "execution_count": 28,
   "metadata": {},
   "outputs": [
    {
     "name": "stdout",
     "output_type": "stream",
     "text": [
      "(6997, 300)\n",
      "(1235, 300)\n"
     ]
    }
   ],
   "source": [
    "tfidf = TfidfVectorizer(encoding='utf-8',\n",
    "                        ngram_range=ngram_range,\n",
    "                        stop_words=None,\n",
    "                        lowercase=False,\n",
    "                        max_df=max_df,\n",
    "                        min_df=min_df,\n",
    "                        max_features=max_features,\n",
    "                        norm='l2',\n",
    "                        sublinear_tf=True)\n",
    "                        \n",
    "features_train = tfidf.fit_transform(X_train).toarray()\n",
    "labels_train = y_train\n",
    "print(features_train.shape)\n",
    "\n",
    "features_test = tfidf.transform(X_test).toarray()\n",
    "labels_test = y_test\n",
    "print(features_test.shape)"
   ]
  },
  {
   "cell_type": "markdown",
   "metadata": {},
   "source": [
    "Please note that we have fitted and then transformed the training set, but we have only transformed the test set.\n",
    "\n",
    "We can use the Chi squared test in order to see what unigrams and bigrams are most correlated with each category:"
   ]
  },
  {
   "cell_type": "code",
   "execution_count": 29,
   "metadata": {},
   "outputs": [
    {
     "name": "stdout",
     "output_type": "stream",
     "text": [
      "# 'Computer Science' category:\n",
      "  . Most correlated unigrams:\n",
      ". algorithm\n",
      ". problem\n",
      ". algorithms\n",
      ". graph\n",
      ". design\n",
      "  . Most correlated bigrams:\n",
      ". monte carlo\n",
      "\n",
      "# 'Economics' category:\n",
      "  . Most correlated unigrams:\n",
      ". economic\n",
      ". equilibrium\n",
      ". inference\n",
      ". estimators\n",
      ". estimator\n",
      "  . Most correlated bigrams:\n",
      ". monte carlo\n",
      "\n",
      "# 'Electrical Engineering and Systems Science' category:\n",
      "  . Most correlated unigrams:\n",
      ". performance\n",
      ". image\n",
      ". communication\n",
      ". channel\n",
      ". signal\n",
      "  . Most correlated bigrams:\n",
      ". monte carlo\n",
      "\n",
      "# 'Mathematics' category:\n",
      "  . Most correlated unigrams:\n",
      ". dimension\n",
      ". finite\n",
      ". space\n",
      ". prove\n",
      ". group\n",
      "  . Most correlated bigrams:\n",
      ". monte carlo\n",
      "\n",
      "# 'Physics' category:\n",
      "  . Most correlated unigrams:\n",
      ". phase\n",
      ". field\n",
      ". energy\n",
      ". quantum\n",
      ". mass\n",
      "  . Most correlated bigrams:\n",
      ". monte carlo\n",
      "\n",
      "# 'Quantitative Biology' category:\n",
      "  . Most correlated unigrams:\n",
      ". sequence\n",
      ". population\n",
      ". dynamics\n",
      ". evolution\n",
      ". protein\n",
      "  . Most correlated bigrams:\n",
      ". monte carlo\n",
      "\n",
      "# 'Quantitative Finance' category:\n",
      "  . Most correlated unigrams:\n",
      ". volatility\n",
      ". financial\n",
      ". risk\n",
      ". market\n",
      ". price\n",
      "  . Most correlated bigrams:\n",
      ". monte carlo\n",
      "\n",
      "# 'Statistics' category:\n",
      "  . Most correlated unigrams:\n",
      ". data\n",
      ". statistical\n",
      ". likelihood\n",
      ". regression\n",
      ". bayesian\n",
      "  . Most correlated bigrams:\n",
      ". monte carlo\n",
      "\n"
     ]
    }
   ],
   "source": [
    "from sklearn.feature_selection import chi2\n",
    "import numpy as np\n",
    "\n",
    "for Product, category_id in sorted(category_codes.items()):\n",
    "    features_chi2 = chi2(features_train, labels_train == category_id)\n",
    "    indices = np.argsort(features_chi2[0])\n",
    "    feature_names = np.array(tfidf.get_feature_names())[indices]\n",
    "    unigrams = [v for v in feature_names if len(v.split(' ')) == 1]\n",
    "    bigrams = [v for v in feature_names if len(v.split(' ')) == 2]\n",
    "    print(\"# '{}' category:\".format(Product))\n",
    "    print(\"  . Most correlated unigrams:\\n. {}\".format('\\n. '.join(unigrams[-5:])))\n",
    "    print(\"  . Most correlated bigrams:\\n. {}\".format('\\n. '.join(bigrams[-2:])))\n",
    "    print(\"\")"
   ]
  },
  {
   "cell_type": "markdown",
   "metadata": {},
   "source": [
    "As we can see, the unigrams correspond well to their category. However, bigrams do not. If we get the bigrams in our features:"
   ]
  },
  {
   "cell_type": "code",
   "execution_count": 30,
   "metadata": {},
   "outputs": [
    {
     "data": {
      "text/plain": [
       "['monte carlo']"
      ]
     },
     "execution_count": 30,
     "metadata": {},
     "output_type": "execute_result"
    }
   ],
   "source": [
    "bigrams"
   ]
  },
  {
   "cell_type": "markdown",
   "metadata": {},
   "source": [
    "We can see there are only two. This means the unigrams have more correlation with the category than the bigrams, and since we're restricting the number of features to the most representative 300, only a few bigrams are being considered."
   ]
  },
  {
   "cell_type": "code",
   "execution_count": 31,
   "metadata": {},
   "outputs": [],
   "source": [
    "# X_train\n",
    "with open('Pickles/X_train.pickle', 'wb') as output:\n",
    "    pickle.dump(X_train, output)\n",
    "    \n",
    "# X_test    \n",
    "with open('Pickles/X_test.pickle', 'wb') as output:\n",
    "    pickle.dump(X_test, output)\n",
    "    \n",
    "# y_train\n",
    "with open('Pickles/y_train.pickle', 'wb') as output:\n",
    "    pickle.dump(y_train, output)\n",
    "    \n",
    "# y_test\n",
    "with open('Pickles/y_test.pickle', 'wb') as output:\n",
    "    pickle.dump(y_test, output)\n",
    "    \n",
    "# df\n",
    "with open('Pickles/df.pickle', 'wb') as output:\n",
    "    pickle.dump(df, output)\n",
    "    \n",
    "# features_train\n",
    "with open('Pickles/features_train.pickle', 'wb') as output:\n",
    "    pickle.dump(features_train, output)\n",
    "\n",
    "# labels_train\n",
    "with open('Pickles/labels_train.pickle', 'wb') as output:\n",
    "    pickle.dump(labels_train, output)\n",
    "\n",
    "# features_test\n",
    "with open('Pickles/features_test.pickle', 'wb') as output:\n",
    "    pickle.dump(features_test, output)\n",
    "\n",
    "# labels_test\n",
    "with open('Pickles/labels_test.pickle', 'wb') as output:\n",
    "    pickle.dump(labels_test, output)\n",
    "    \n",
    "# TF-IDF object\n",
    "with open('Pickles/tfidf.pickle', 'wb') as output:\n",
    "    pickle.dump(tfidf, output)"
   ]
  },
  {
   "cell_type": "code",
   "execution_count": null,
   "metadata": {},
   "outputs": [],
   "source": []
  },
  {
   "cell_type": "code",
   "execution_count": null,
   "metadata": {},
   "outputs": [],
   "source": []
  }
 ],
 "metadata": {
  "kernelspec": {
   "display_name": "Python 3",
   "language": "python",
   "name": "python3"
  },
  "language_info": {
   "codemirror_mode": {
    "name": "ipython",
    "version": 3
   },
   "file_extension": ".py",
   "mimetype": "text/x-python",
   "name": "python",
   "nbconvert_exporter": "python",
   "pygments_lexer": "ipython3",
   "version": "3.7.4"
  }
 },
 "nbformat": 4,
 "nbformat_minor": 2
}
